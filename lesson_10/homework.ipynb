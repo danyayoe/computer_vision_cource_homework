{
 "cells": [
  {
   "cell_type": "markdown",
   "id": "6f4f596c-7d6e-4c9a-86b4-b37f8a516626",
   "metadata": {
    "tags": []
   },
   "source": [
    "## Homework 10\n",
    "\n",
    "In this homework, you are going to use and compare two different trackers (of your liking) and compare the results.\n",
    "\n",
    "### Step 1\n",
    "Decide what video you are going to use for this homework, select an object and generate the template. You can use any video you want (your own, from Youtube, etc.)\n",
    "and track any object you want (e.g. a car, a pedestrian, etc.)."
   ]
  },
  {
   "cell_type": "code",
   "execution_count": 1,
   "id": "c5c95a8f-5b81-4cb8-a494-c7f18902018a",
   "metadata": {},
   "outputs": [
    {
     "name": "stdout",
     "output_type": "stream",
     "text": [
      "< cv2.VideoCapture 000001ECFADA2EF0>\n"
     ]
    },
    {
     "data": {
      "text/html": [
       "<br><h3>Source video</h3><video width=\"320\" height=\"240\" controls><source src=\"data/dashcam_footage_360p.mp4\" type=\"video/mp4\"></video>"
      ],
      "text/plain": [
       "<IPython.core.display.HTML object>"
      ]
     },
     "execution_count": 1,
     "metadata": {},
     "output_type": "execute_result"
    }
   ],
   "source": [
    "import cv2\n",
    "import numpy as np\n",
    "from IPython.display import HTML\n",
    "\n",
    "frames, search, x1, y1, x2, y2, width, height, input_video = None, None, None, None, None, None, None, None, None\n",
    "\n",
    "def init(f = 480, s = 80, x = 317, y = 170, import_file_name = 'dashcam_footage_360p.mp4'):\n",
    "\n",
    "    global frames, search, x1, y1, x2, y2, width, height, input_video\n",
    "    \n",
    "    # Writed frames limit\n",
    "    frames = f\n",
    "\n",
    "    # The search limit\n",
    "    search = s\n",
    "\n",
    "    # The vehicle`s bounding boxes coords and size\n",
    "    x1, y1 = x, y,\n",
    "    x2, y2 = x1 + search, y1 + search\n",
    "    width = x2 - x1\n",
    "    height = y2 - y1\n",
    "\n",
    "    # Import the file\n",
    "    input_video = cv2.VideoCapture('data/' + import_file_name)\n",
    "\n",
    "    # Check if video opened successfully\n",
    "    if input_video.isOpened() == False: \n",
    "        print(\"Error opening video stream or file\")\n",
    "    \n",
    "def show_video(title, file_name):\n",
    "    return HTML('<br><h3>' + title + '</h3><video width=\"320\" height=\"240\" controls><source src=\"data/' + file_name + '\" type=\"video/mp4\"></video>')\n",
    "\n",
    "init()\n",
    "\n",
    "# Show source video\n",
    "show_video('Source video', 'dashcam_footage_360p.mp4')"
   ]
  },
  {
   "cell_type": "markdown",
   "id": "9686cd03-f818-4762-90c2-e4d81eb5e2d1",
   "metadata": {},
   "source": [
    "### Step 2\n",
    "Initialize a tracker (e.g. KCF)."
   ]
  },
  {
   "cell_type": "code",
   "execution_count": 2,
   "id": "f895d694-5ecd-4429-a500-0be53d743492",
   "metadata": {},
   "outputs": [],
   "source": [
    "# Set up tracker\n",
    "tracker_types = {'MIL':'MIL', 'KCF':'KCF', 'CSRT':'CSRT'}\n",
    "out_video, tracker, tracker_type = None, None, None\n",
    "\n",
    "def change_tracker(ttype):\n",
    "    \n",
    "    global tracker, out_video, tracker_type\n",
    "    tracker_type = ttype\n",
    "    \n",
    "    if tracker_type == tracker_types['MIL']:\n",
    "        tracker = cv2.TrackerMIL_create()\n",
    "\n",
    "    if tracker_type == tracker_types['KCF']:\n",
    "        tracker = cv2.TrackerKCF_create()\n",
    "\n",
    "    if tracker_type == tracker_types['CSRT']:\n",
    "        tracker = cv2.TrackerCSRT_create()\n",
    "\n",
    "    # Get fitst frame of the video\n",
    "    ret, frame = input_video.read()\n",
    "\n",
    "    # Initialize tracker\n",
    "    bbox = (x1, y1, width, height)\n",
    "    ok = tracker.init(frame, bbox)\n",
    "\n",
    "    # Init video writer\n",
    "    out_video = cv2.VideoWriter('data/result_' + tracker_type + '.mp4', cv2.VideoWriter_fourcc(*'MP4V'), 30, (640, 352))\n",
    "    \n",
    "change_tracker(tracker_types['KCF'])"
   ]
  },
  {
   "cell_type": "markdown",
   "id": "b9ecc12e-8fe5-4d06-b022-5c2aab30c62e",
   "metadata": {},
   "source": [
    "### Step 3-4\n",
    "Run the tracker on the video and the selected object. Run the tracker for around 10-15 frames.\n",
    "\n",
    "For each frame, print the bounding box on the image and save it."
   ]
  },
  {
   "cell_type": "code",
   "execution_count": 3,
   "id": "be4c0c01-cf35-463a-ba4f-dd922c0d5ee6",
   "metadata": {
    "tags": []
   },
   "outputs": [
    {
     "name": "stdout",
     "output_type": "stream",
     "text": [
      "Done!\n"
     ]
    }
   ],
   "source": [
    "def run_tracker():\n",
    "\n",
    "    frame_index = 0\n",
    "\n",
    "    # Read until video is completed\n",
    "    while input_video.isOpened():\n",
    "\n",
    "        # Capture frame-by-frame\n",
    "        ret, frame = input_video.read()\n",
    "        if ret == True and frame_index <= frames:\n",
    "\n",
    "            ok, bbox = tracker.update(frame)\n",
    "\n",
    "            # Show the tracker working\n",
    "            x1, y1 = bbox[0], bbox[1]\n",
    "            width, height = bbox[2], bbox[3]\n",
    "            cv2.rectangle(frame, (x1, y1), (x1+width, y1+height), (0, 255, 0), 2)\n",
    "\n",
    "            # Display the resulting frame\n",
    "            out_video.write(frame)\n",
    "\n",
    "            frame_index += 1\n",
    "\n",
    "        else:\n",
    "            print('Done!')\n",
    "            break\n",
    "    \n",
    "    # Realease the video capture object\n",
    "    input_video.release()\n",
    "    out_video.release()\n",
    "        \n",
    "run_tracker()"
   ]
  },
  {
   "cell_type": "code",
   "execution_count": 7,
   "id": "2ac4ddf5-3c39-49aa-a68b-fc171e7d9b0c",
   "metadata": {},
   "outputs": [
    {
     "data": {
      "text/html": [
       "<br><h3>KCF result</h3><video width=\"320\" height=\"240\" controls><source src=\"data/result_KCF-min.mp4\" type=\"video/mp4\"></video>"
      ],
      "text/plain": [
       "<IPython.core.display.HTML object>"
      ]
     },
     "execution_count": 7,
     "metadata": {},
     "output_type": "execute_result"
    }
   ],
   "source": [
    "# For some reasons result video doesn`t work in Jupyter Notebook, so I fix it via ffmpeg manually (run compress_video_KCF.bat)\n",
    "show_video('KCF result', 'result_KCF-min.mp4')"
   ]
  },
  {
   "cell_type": "markdown",
   "id": "ac5e79cb-4872-4ac7-af31-d7bbce86ba44",
   "metadata": {},
   "source": [
    "### Step 5\n",
    "Select a different tracker (e.g. CSRT) and repeat steps 2, 3 and 4.\n"
   ]
  },
  {
   "cell_type": "code",
   "execution_count": 5,
   "id": "1b630eb2-fce8-4271-a28e-83c2db01ba1b",
   "metadata": {},
   "outputs": [
    {
     "name": "stdout",
     "output_type": "stream",
     "text": [
      "Done!\n"
     ]
    }
   ],
   "source": [
    "init()\n",
    "change_tracker('CSRT')\n",
    "run_tracker()"
   ]
  },
  {
   "cell_type": "code",
   "execution_count": 8,
   "id": "5e24c5b5-109b-40a3-be47-84f9ef9a3756",
   "metadata": {},
   "outputs": [
    {
     "data": {
      "text/html": [
       "<br><h3>CSRT result</h3><video width=\"320\" height=\"240\" controls><source src=\"data/result_CSRT-min.mp4\" type=\"video/mp4\"></video>"
      ],
      "text/plain": [
       "<IPython.core.display.HTML object>"
      ]
     },
     "execution_count": 8,
     "metadata": {},
     "output_type": "execute_result"
    }
   ],
   "source": [
    "# Run compress_video_CSRT.bat before\n",
    "show_video('CSRT result', 'result_CSRT-min.mp4')"
   ]
  },
  {
   "cell_type": "markdown",
   "id": "52a76e7c-a759-4c68-a818-3fe8cffcd418",
   "metadata": {},
   "source": [
    "### Step 6\n",
    "Compare the results:\n",
    "\n",
    "* Do you see any differences? If so, what are they?\n",
    "\n",
    "`Sure! The KFC tracker works a bit smoother, but cannot recognize the object when it's comming to the camera.`\n",
    "\n",
    "`The CSRT tracker gives small jumps but doesn't break at the end of the video.`\n",
    "\n",
    "* Does one tracker perform better than the other? In what way?\n",
    "\n",
    "`Yes, the CSRT tracker works better than KFC in this case`\n",
    "\n",
    "`because the CSRT tracker recognizes resizing, so the tracker doesn't break at the end of the video like with the KFC tracker`"
   ]
  }
 ],
 "metadata": {
  "kernelspec": {
   "display_name": "Python 3 (ipykernel)",
   "language": "python",
   "name": "python3"
  },
  "language_info": {
   "codemirror_mode": {
    "name": "ipython",
    "version": 3
   },
   "file_extension": ".py",
   "mimetype": "text/x-python",
   "name": "python",
   "nbconvert_exporter": "python",
   "pygments_lexer": "ipython3",
   "version": "3.9.13"
  }
 },
 "nbformat": 4,
 "nbformat_minor": 5
}
